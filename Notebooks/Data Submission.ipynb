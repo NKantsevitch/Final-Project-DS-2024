{
 "cells": [
  {
   "cell_type": "code",
   "execution_count": 1,
   "id": "9d5163c6",
   "metadata": {},
   "outputs": [],
   "source": [
    "import pandas as pd"
   ]
  },
  {
   "cell_type": "markdown",
   "id": "b5c94271",
   "metadata": {},
   "source": [
    "## Food Prices Dataset"
   ]
  },
  {
   "cell_type": "markdown",
   "id": "6b8d4cde",
   "metadata": {},
   "source": [
    "This dataset contains prices for various food items and some miscellaneous household items for Canada and various provinces. The timeframe covered in this dataset is from January 2017 to February 2024.\n",
    "\n",
    "https://www150.statcan.gc.ca/t1/tbl1/en/tv.action?pid=1810024502&pickMembers%5B0%5D=1.11&cubeTimeFrame.startMonth=01&cubeTimeFrame.startYear=2017&cubeTimeFrame.endMonth=02&cubeTimeFrame.endYear=2024&referencePeriods=20170101%2C20240201"
   ]
  },
  {
   "cell_type": "code",
   "execution_count": 2,
   "id": "65ec0b26",
   "metadata": {},
   "outputs": [],
   "source": [
    "df_food = pd.read_csv('../Data/Canadian_Food_Prices.csv')"
   ]
  },
  {
   "cell_type": "code",
   "execution_count": 3,
   "id": "f517a65a",
   "metadata": {},
   "outputs": [
    {
     "name": "stdout",
     "output_type": "stream",
     "text": [
      "<class 'pandas.core.frame.DataFrame'>\n",
      "RangeIndex: 103974 entries, 0 to 103973\n",
      "Data columns (total 15 columns):\n",
      " #   Column         Non-Null Count   Dtype  \n",
      "---  ------         --------------   -----  \n",
      " 0   REF_DATE       103974 non-null  object \n",
      " 1   GEO            103974 non-null  object \n",
      " 2   DGUID          103974 non-null  object \n",
      " 3   Products       103974 non-null  object \n",
      " 4   UOM            103974 non-null  object \n",
      " 5   UOM_ID         103974 non-null  int64  \n",
      " 6   SCALAR_FACTOR  103974 non-null  object \n",
      " 7   SCALAR_ID      103974 non-null  int64  \n",
      " 8   VECTOR         103974 non-null  object \n",
      " 9   COORDINATE     103974 non-null  float64\n",
      " 10  VALUE          103974 non-null  float64\n",
      " 11  STATUS         0 non-null       float64\n",
      " 12  SYMBOL         0 non-null       float64\n",
      " 13  TERMINATED     0 non-null       float64\n",
      " 14  DECIMALS       103974 non-null  int64  \n",
      "dtypes: float64(5), int64(3), object(7)\n",
      "memory usage: 11.9+ MB\n"
     ]
    }
   ],
   "source": [
    "df_food.info()"
   ]
  },
  {
   "cell_type": "code",
   "execution_count": 4,
   "id": "1b6c384b",
   "metadata": {},
   "outputs": [
    {
     "data": {
      "text/html": [
       "<div>\n",
       "<style scoped>\n",
       "    .dataframe tbody tr th:only-of-type {\n",
       "        vertical-align: middle;\n",
       "    }\n",
       "\n",
       "    .dataframe tbody tr th {\n",
       "        vertical-align: top;\n",
       "    }\n",
       "\n",
       "    .dataframe thead th {\n",
       "        text-align: right;\n",
       "    }\n",
       "</style>\n",
       "<table border=\"1\" class=\"dataframe\">\n",
       "  <thead>\n",
       "    <tr style=\"text-align: right;\">\n",
       "      <th></th>\n",
       "      <th>REF_DATE</th>\n",
       "      <th>GEO</th>\n",
       "      <th>DGUID</th>\n",
       "      <th>Products</th>\n",
       "      <th>UOM</th>\n",
       "      <th>UOM_ID</th>\n",
       "      <th>SCALAR_FACTOR</th>\n",
       "      <th>SCALAR_ID</th>\n",
       "      <th>VECTOR</th>\n",
       "      <th>COORDINATE</th>\n",
       "      <th>VALUE</th>\n",
       "      <th>STATUS</th>\n",
       "      <th>SYMBOL</th>\n",
       "      <th>TERMINATED</th>\n",
       "      <th>DECIMALS</th>\n",
       "    </tr>\n",
       "  </thead>\n",
       "  <tbody>\n",
       "    <tr>\n",
       "      <th>0</th>\n",
       "      <td>2017-01</td>\n",
       "      <td>Canada</td>\n",
       "      <td>2016A000011124</td>\n",
       "      <td>Beef stewing cuts, per kilogram</td>\n",
       "      <td>Dollars</td>\n",
       "      <td>81</td>\n",
       "      <td>units</td>\n",
       "      <td>0</td>\n",
       "      <td>v1353834271</td>\n",
       "      <td>11.10</td>\n",
       "      <td>12.66</td>\n",
       "      <td>NaN</td>\n",
       "      <td>NaN</td>\n",
       "      <td>NaN</td>\n",
       "      <td>2</td>\n",
       "    </tr>\n",
       "    <tr>\n",
       "      <th>1</th>\n",
       "      <td>2017-01</td>\n",
       "      <td>Canada</td>\n",
       "      <td>2016A000011124</td>\n",
       "      <td>Beef striploin cuts, per kilogram</td>\n",
       "      <td>Dollars</td>\n",
       "      <td>81</td>\n",
       "      <td>units</td>\n",
       "      <td>0</td>\n",
       "      <td>v1353834272</td>\n",
       "      <td>11.20</td>\n",
       "      <td>21.94</td>\n",
       "      <td>NaN</td>\n",
       "      <td>NaN</td>\n",
       "      <td>NaN</td>\n",
       "      <td>2</td>\n",
       "    </tr>\n",
       "    <tr>\n",
       "      <th>2</th>\n",
       "      <td>2017-01</td>\n",
       "      <td>Canada</td>\n",
       "      <td>2016A000011124</td>\n",
       "      <td>Beef top sirloin cuts, per kilogram</td>\n",
       "      <td>Dollars</td>\n",
       "      <td>81</td>\n",
       "      <td>units</td>\n",
       "      <td>0</td>\n",
       "      <td>v1353834273</td>\n",
       "      <td>11.30</td>\n",
       "      <td>13.44</td>\n",
       "      <td>NaN</td>\n",
       "      <td>NaN</td>\n",
       "      <td>NaN</td>\n",
       "      <td>2</td>\n",
       "    </tr>\n",
       "    <tr>\n",
       "      <th>3</th>\n",
       "      <td>2017-01</td>\n",
       "      <td>Canada</td>\n",
       "      <td>2016A000011124</td>\n",
       "      <td>Beef rib cuts, per kilogram</td>\n",
       "      <td>Dollars</td>\n",
       "      <td>81</td>\n",
       "      <td>units</td>\n",
       "      <td>0</td>\n",
       "      <td>v1353834311</td>\n",
       "      <td>11.41</td>\n",
       "      <td>20.17</td>\n",
       "      <td>NaN</td>\n",
       "      <td>NaN</td>\n",
       "      <td>NaN</td>\n",
       "      <td>2</td>\n",
       "    </tr>\n",
       "    <tr>\n",
       "      <th>4</th>\n",
       "      <td>2017-01</td>\n",
       "      <td>Canada</td>\n",
       "      <td>2016A000011124</td>\n",
       "      <td>Ground beef, per kilogram</td>\n",
       "      <td>Dollars</td>\n",
       "      <td>81</td>\n",
       "      <td>units</td>\n",
       "      <td>0</td>\n",
       "      <td>v1353834274</td>\n",
       "      <td>11.40</td>\n",
       "      <td>9.12</td>\n",
       "      <td>NaN</td>\n",
       "      <td>NaN</td>\n",
       "      <td>NaN</td>\n",
       "      <td>2</td>\n",
       "    </tr>\n",
       "  </tbody>\n",
       "</table>\n",
       "</div>"
      ],
      "text/plain": [
       "  REF_DATE     GEO           DGUID                             Products  \\\n",
       "0  2017-01  Canada  2016A000011124      Beef stewing cuts, per kilogram   \n",
       "1  2017-01  Canada  2016A000011124    Beef striploin cuts, per kilogram   \n",
       "2  2017-01  Canada  2016A000011124  Beef top sirloin cuts, per kilogram   \n",
       "3  2017-01  Canada  2016A000011124          Beef rib cuts, per kilogram   \n",
       "4  2017-01  Canada  2016A000011124            Ground beef, per kilogram   \n",
       "\n",
       "       UOM  UOM_ID SCALAR_FACTOR  SCALAR_ID       VECTOR  COORDINATE  VALUE  \\\n",
       "0  Dollars      81         units          0  v1353834271       11.10  12.66   \n",
       "1  Dollars      81         units          0  v1353834272       11.20  21.94   \n",
       "2  Dollars      81         units          0  v1353834273       11.30  13.44   \n",
       "3  Dollars      81         units          0  v1353834311       11.41  20.17   \n",
       "4  Dollars      81         units          0  v1353834274       11.40   9.12   \n",
       "\n",
       "   STATUS  SYMBOL  TERMINATED  DECIMALS  \n",
       "0     NaN     NaN         NaN         2  \n",
       "1     NaN     NaN         NaN         2  \n",
       "2     NaN     NaN         NaN         2  \n",
       "3     NaN     NaN         NaN         2  \n",
       "4     NaN     NaN         NaN         2  "
      ]
     },
     "execution_count": 4,
     "metadata": {},
     "output_type": "execute_result"
    }
   ],
   "source": [
    "df_food.head()"
   ]
  },
  {
   "cell_type": "code",
   "execution_count": 5,
   "id": "bebc25a8",
   "metadata": {},
   "outputs": [
    {
     "data": {
      "text/plain": [
       "(103974, 15)"
      ]
     },
     "execution_count": 5,
     "metadata": {},
     "output_type": "execute_result"
    }
   ],
   "source": [
    "df_food.shape"
   ]
  },
  {
   "cell_type": "code",
   "execution_count": 6,
   "id": "ef549597",
   "metadata": {},
   "outputs": [
    {
     "name": "stdout",
     "output_type": "stream",
     "text": [
      "<class 'pandas.core.frame.DataFrame'>\n",
      "RangeIndex: 95460 entries, 0 to 95459\n",
      "Data columns (total 4 columns):\n",
      " #   Column    Non-Null Count  Dtype  \n",
      "---  ------    --------------  -----  \n",
      " 0   Date      95460 non-null  object \n",
      " 1   Location  95460 non-null  object \n",
      " 2   Products  95460 non-null  object \n",
      " 3   Price     95460 non-null  float64\n",
      "dtypes: float64(1), object(3)\n",
      "memory usage: 2.9+ MB\n"
     ]
    }
   ],
   "source": [
    "cleaned_food_df = pd.read_csv('../Data/df_food.csv')\n",
    "\n",
    "cleaned_food_df.info()"
   ]
  },
  {
   "cell_type": "code",
   "execution_count": 7,
   "id": "425daec0",
   "metadata": {},
   "outputs": [
    {
     "data": {
      "text/html": [
       "<div>\n",
       "<style scoped>\n",
       "    .dataframe tbody tr th:only-of-type {\n",
       "        vertical-align: middle;\n",
       "    }\n",
       "\n",
       "    .dataframe tbody tr th {\n",
       "        vertical-align: top;\n",
       "    }\n",
       "\n",
       "    .dataframe thead th {\n",
       "        text-align: right;\n",
       "    }\n",
       "</style>\n",
       "<table border=\"1\" class=\"dataframe\">\n",
       "  <thead>\n",
       "    <tr style=\"text-align: right;\">\n",
       "      <th></th>\n",
       "      <th>Date</th>\n",
       "      <th>Location</th>\n",
       "      <th>Products</th>\n",
       "      <th>Price</th>\n",
       "    </tr>\n",
       "  </thead>\n",
       "  <tbody>\n",
       "    <tr>\n",
       "      <th>0</th>\n",
       "      <td>2017-01-01</td>\n",
       "      <td>Alberta</td>\n",
       "      <td>Almonds, 200 grams</td>\n",
       "      <td>3.84</td>\n",
       "    </tr>\n",
       "    <tr>\n",
       "      <th>1</th>\n",
       "      <td>2017-01-01</td>\n",
       "      <td>Alberta</td>\n",
       "      <td>Apple juice, 2 litres</td>\n",
       "      <td>2.90</td>\n",
       "    </tr>\n",
       "    <tr>\n",
       "      <th>2</th>\n",
       "      <td>2017-01-01</td>\n",
       "      <td>Alberta</td>\n",
       "      <td>Apples, per kilogram</td>\n",
       "      <td>3.86</td>\n",
       "    </tr>\n",
       "    <tr>\n",
       "      <th>3</th>\n",
       "      <td>2017-01-01</td>\n",
       "      <td>Alberta</td>\n",
       "      <td>Avocado, unit</td>\n",
       "      <td>1.56</td>\n",
       "    </tr>\n",
       "    <tr>\n",
       "      <th>4</th>\n",
       "      <td>2017-01-01</td>\n",
       "      <td>Alberta</td>\n",
       "      <td>Baby food, 128 millilitres</td>\n",
       "      <td>1.19</td>\n",
       "    </tr>\n",
       "  </tbody>\n",
       "</table>\n",
       "</div>"
      ],
      "text/plain": [
       "         Date Location                    Products  Price\n",
       "0  2017-01-01  Alberta          Almonds, 200 grams   3.84\n",
       "1  2017-01-01  Alberta       Apple juice, 2 litres   2.90\n",
       "2  2017-01-01  Alberta        Apples, per kilogram   3.86\n",
       "3  2017-01-01  Alberta               Avocado, unit   1.56\n",
       "4  2017-01-01  Alberta  Baby food, 128 millilitres   1.19"
      ]
     },
     "execution_count": 7,
     "metadata": {},
     "output_type": "execute_result"
    }
   ],
   "source": [
    "cleaned_food_df.head()"
   ]
  },
  {
   "cell_type": "code",
   "execution_count": 8,
   "id": "109432a6",
   "metadata": {},
   "outputs": [
    {
     "data": {
      "text/plain": [
       "(95460, 4)"
      ]
     },
     "execution_count": 8,
     "metadata": {},
     "output_type": "execute_result"
    }
   ],
   "source": [
    "cleaned_food_df.shape"
   ]
  },
  {
   "cell_type": "markdown",
   "id": "589160dc",
   "metadata": {},
   "source": [
    "## Unemployment Rate Dataset"
   ]
  },
  {
   "cell_type": "markdown",
   "id": "bb947c92",
   "metadata": {},
   "source": [
    "This dataset contains the unemployment rate for Canada and various provinces. The timeframe covered in this dataset is from January 2017 to February 2024.\n",
    "\n",
    "https://www150.statcan.gc.ca/t1/tbl1/en/cv.action?pid=1410028701"
   ]
  },
  {
   "cell_type": "code",
   "execution_count": 9,
   "id": "4d863fd8",
   "metadata": {},
   "outputs": [],
   "source": [
    "df_empl = pd.read_csv('../Data/Employment.csv')"
   ]
  },
  {
   "cell_type": "code",
   "execution_count": 10,
   "id": "66121f23",
   "metadata": {},
   "outputs": [
    {
     "name": "stdout",
     "output_type": "stream",
     "text": [
      "<class 'pandas.core.frame.DataFrame'>\n",
      "RangeIndex: 946 entries, 0 to 945\n",
      "Data columns (total 19 columns):\n",
      " #   Column                        Non-Null Count  Dtype  \n",
      "---  ------                        --------------  -----  \n",
      " 0   REF_DATE                      946 non-null    object \n",
      " 1   GEO                           946 non-null    object \n",
      " 2   DGUID                         946 non-null    object \n",
      " 3   Labour force characteristics  946 non-null    object \n",
      " 4   Sex                           946 non-null    object \n",
      " 5   Age group                     946 non-null    object \n",
      " 6   Statistics                    946 non-null    object \n",
      " 7   Data type                     946 non-null    object \n",
      " 8   UOM                           946 non-null    object \n",
      " 9   UOM_ID                        946 non-null    int64  \n",
      " 10  SCALAR_FACTOR                 946 non-null    object \n",
      " 11  SCALAR_ID                     946 non-null    int64  \n",
      " 12  VECTOR                        946 non-null    object \n",
      " 13  COORDINATE                    946 non-null    object \n",
      " 14  VALUE                         946 non-null    float64\n",
      " 15  STATUS                        0 non-null      float64\n",
      " 16  SYMBOL                        0 non-null      float64\n",
      " 17  TERMINATED                    0 non-null      float64\n",
      " 18  DECIMALS                      946 non-null    int64  \n",
      "dtypes: float64(4), int64(3), object(12)\n",
      "memory usage: 140.6+ KB\n"
     ]
    }
   ],
   "source": [
    "df_empl.info()"
   ]
  },
  {
   "cell_type": "code",
   "execution_count": 11,
   "id": "61ef6b0f",
   "metadata": {},
   "outputs": [
    {
     "data": {
      "text/html": [
       "<div>\n",
       "<style scoped>\n",
       "    .dataframe tbody tr th:only-of-type {\n",
       "        vertical-align: middle;\n",
       "    }\n",
       "\n",
       "    .dataframe tbody tr th {\n",
       "        vertical-align: top;\n",
       "    }\n",
       "\n",
       "    .dataframe thead th {\n",
       "        text-align: right;\n",
       "    }\n",
       "</style>\n",
       "<table border=\"1\" class=\"dataframe\">\n",
       "  <thead>\n",
       "    <tr style=\"text-align: right;\">\n",
       "      <th></th>\n",
       "      <th>REF_DATE</th>\n",
       "      <th>GEO</th>\n",
       "      <th>DGUID</th>\n",
       "      <th>Labour force characteristics</th>\n",
       "      <th>Sex</th>\n",
       "      <th>Age group</th>\n",
       "      <th>Statistics</th>\n",
       "      <th>Data type</th>\n",
       "      <th>UOM</th>\n",
       "      <th>UOM_ID</th>\n",
       "      <th>SCALAR_FACTOR</th>\n",
       "      <th>SCALAR_ID</th>\n",
       "      <th>VECTOR</th>\n",
       "      <th>COORDINATE</th>\n",
       "      <th>VALUE</th>\n",
       "      <th>STATUS</th>\n",
       "      <th>SYMBOL</th>\n",
       "      <th>TERMINATED</th>\n",
       "      <th>DECIMALS</th>\n",
       "    </tr>\n",
       "  </thead>\n",
       "  <tbody>\n",
       "    <tr>\n",
       "      <th>0</th>\n",
       "      <td>2017-01</td>\n",
       "      <td>Canada</td>\n",
       "      <td>2016A000011124</td>\n",
       "      <td>Unemployment rate</td>\n",
       "      <td>Both sexes</td>\n",
       "      <td>15 years and over</td>\n",
       "      <td>Estimate</td>\n",
       "      <td>Seasonally adjusted</td>\n",
       "      <td>Percentage</td>\n",
       "      <td>242</td>\n",
       "      <td>units</td>\n",
       "      <td>0</td>\n",
       "      <td>v2062815</td>\n",
       "      <td>1.7.1.1.1.1</td>\n",
       "      <td>6.8</td>\n",
       "      <td>NaN</td>\n",
       "      <td>NaN</td>\n",
       "      <td>NaN</td>\n",
       "      <td>1</td>\n",
       "    </tr>\n",
       "    <tr>\n",
       "      <th>1</th>\n",
       "      <td>2017-02</td>\n",
       "      <td>Canada</td>\n",
       "      <td>2016A000011124</td>\n",
       "      <td>Unemployment rate</td>\n",
       "      <td>Both sexes</td>\n",
       "      <td>15 years and over</td>\n",
       "      <td>Estimate</td>\n",
       "      <td>Seasonally adjusted</td>\n",
       "      <td>Percentage</td>\n",
       "      <td>242</td>\n",
       "      <td>units</td>\n",
       "      <td>0</td>\n",
       "      <td>v2062815</td>\n",
       "      <td>1.7.1.1.1.1</td>\n",
       "      <td>6.6</td>\n",
       "      <td>NaN</td>\n",
       "      <td>NaN</td>\n",
       "      <td>NaN</td>\n",
       "      <td>1</td>\n",
       "    </tr>\n",
       "    <tr>\n",
       "      <th>2</th>\n",
       "      <td>2017-03</td>\n",
       "      <td>Canada</td>\n",
       "      <td>2016A000011124</td>\n",
       "      <td>Unemployment rate</td>\n",
       "      <td>Both sexes</td>\n",
       "      <td>15 years and over</td>\n",
       "      <td>Estimate</td>\n",
       "      <td>Seasonally adjusted</td>\n",
       "      <td>Percentage</td>\n",
       "      <td>242</td>\n",
       "      <td>units</td>\n",
       "      <td>0</td>\n",
       "      <td>v2062815</td>\n",
       "      <td>1.7.1.1.1.1</td>\n",
       "      <td>6.7</td>\n",
       "      <td>NaN</td>\n",
       "      <td>NaN</td>\n",
       "      <td>NaN</td>\n",
       "      <td>1</td>\n",
       "    </tr>\n",
       "    <tr>\n",
       "      <th>3</th>\n",
       "      <td>2017-04</td>\n",
       "      <td>Canada</td>\n",
       "      <td>2016A000011124</td>\n",
       "      <td>Unemployment rate</td>\n",
       "      <td>Both sexes</td>\n",
       "      <td>15 years and over</td>\n",
       "      <td>Estimate</td>\n",
       "      <td>Seasonally adjusted</td>\n",
       "      <td>Percentage</td>\n",
       "      <td>242</td>\n",
       "      <td>units</td>\n",
       "      <td>0</td>\n",
       "      <td>v2062815</td>\n",
       "      <td>1.7.1.1.1.1</td>\n",
       "      <td>6.5</td>\n",
       "      <td>NaN</td>\n",
       "      <td>NaN</td>\n",
       "      <td>NaN</td>\n",
       "      <td>1</td>\n",
       "    </tr>\n",
       "    <tr>\n",
       "      <th>4</th>\n",
       "      <td>2017-05</td>\n",
       "      <td>Canada</td>\n",
       "      <td>2016A000011124</td>\n",
       "      <td>Unemployment rate</td>\n",
       "      <td>Both sexes</td>\n",
       "      <td>15 years and over</td>\n",
       "      <td>Estimate</td>\n",
       "      <td>Seasonally adjusted</td>\n",
       "      <td>Percentage</td>\n",
       "      <td>242</td>\n",
       "      <td>units</td>\n",
       "      <td>0</td>\n",
       "      <td>v2062815</td>\n",
       "      <td>1.7.1.1.1.1</td>\n",
       "      <td>6.6</td>\n",
       "      <td>NaN</td>\n",
       "      <td>NaN</td>\n",
       "      <td>NaN</td>\n",
       "      <td>1</td>\n",
       "    </tr>\n",
       "  </tbody>\n",
       "</table>\n",
       "</div>"
      ],
      "text/plain": [
       "  REF_DATE     GEO           DGUID Labour force characteristics         Sex  \\\n",
       "0  2017-01  Canada  2016A000011124            Unemployment rate  Both sexes   \n",
       "1  2017-02  Canada  2016A000011124            Unemployment rate  Both sexes   \n",
       "2  2017-03  Canada  2016A000011124            Unemployment rate  Both sexes   \n",
       "3  2017-04  Canada  2016A000011124            Unemployment rate  Both sexes   \n",
       "4  2017-05  Canada  2016A000011124            Unemployment rate  Both sexes   \n",
       "\n",
       "           Age group Statistics            Data type         UOM  UOM_ID  \\\n",
       "0  15 years and over   Estimate  Seasonally adjusted  Percentage     242   \n",
       "1  15 years and over   Estimate  Seasonally adjusted  Percentage     242   \n",
       "2  15 years and over   Estimate  Seasonally adjusted  Percentage     242   \n",
       "3  15 years and over   Estimate  Seasonally adjusted  Percentage     242   \n",
       "4  15 years and over   Estimate  Seasonally adjusted  Percentage     242   \n",
       "\n",
       "  SCALAR_FACTOR  SCALAR_ID    VECTOR   COORDINATE  VALUE  STATUS  SYMBOL  \\\n",
       "0         units          0  v2062815  1.7.1.1.1.1    6.8     NaN     NaN   \n",
       "1         units          0  v2062815  1.7.1.1.1.1    6.6     NaN     NaN   \n",
       "2         units          0  v2062815  1.7.1.1.1.1    6.7     NaN     NaN   \n",
       "3         units          0  v2062815  1.7.1.1.1.1    6.5     NaN     NaN   \n",
       "4         units          0  v2062815  1.7.1.1.1.1    6.6     NaN     NaN   \n",
       "\n",
       "   TERMINATED  DECIMALS  \n",
       "0         NaN         1  \n",
       "1         NaN         1  \n",
       "2         NaN         1  \n",
       "3         NaN         1  \n",
       "4         NaN         1  "
      ]
     },
     "execution_count": 11,
     "metadata": {},
     "output_type": "execute_result"
    }
   ],
   "source": [
    "df_empl.head()"
   ]
  },
  {
   "cell_type": "code",
   "execution_count": 12,
   "id": "9dc4425a",
   "metadata": {},
   "outputs": [
    {
     "data": {
      "text/plain": [
       "(946, 19)"
      ]
     },
     "execution_count": 12,
     "metadata": {},
     "output_type": "execute_result"
    }
   ],
   "source": [
    "df_empl.shape"
   ]
  },
  {
   "cell_type": "code",
   "execution_count": null,
   "id": "d26ff9f7",
   "metadata": {},
   "outputs": [],
   "source": []
  }
 ],
 "metadata": {
  "kernelspec": {
   "display_name": "Python [conda env:root] *",
   "language": "python",
   "name": "conda-root-py"
  },
  "language_info": {
   "codemirror_mode": {
    "name": "ipython",
    "version": 3
   },
   "file_extension": ".py",
   "mimetype": "text/x-python",
   "name": "python",
   "nbconvert_exporter": "python",
   "pygments_lexer": "ipython3",
   "version": "3.11.8"
  }
 },
 "nbformat": 4,
 "nbformat_minor": 5
}
